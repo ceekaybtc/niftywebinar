{
 "cells": [
  {
   "cell_type": "markdown",
   "metadata": {
    "colab_type": "text",
    "id": "TOvht7vqQGdR"
   },
   "source": [
    "# NIFTY Exploratory data analysis in Python."
   ]
  },
  {
   "cell_type": "markdown",
   "metadata": {
    "colab_type": "text",
    "id": "mhA_0CQOTDQy"
   },
   "source": [
    "## Let us understand how to explore the data in python.\n"
   ]
  },
  {
   "cell_type": "markdown",
   "metadata": {
    "colab_type": "text",
    "id": "dB_j6LtTTO5j"
   },
   "source": [
    "## Introduction"
   ]
  },
  {
   "cell_type": "markdown",
   "metadata": {
    "colab_type": "text",
    "id": "n3VfNkBBw15s"
   },
   "source": [
    "**What data are we exploring today ?**\n",
    "\n",
    "![alt text](Columns1.png \"List of columns\")\n",
    "![alt text](Columns2.png \"List of columns\")\n",
    "\n"
   ]
  },
  {
   "cell_type": "markdown",
   "metadata": {
    "colab_type": "text",
    "id": "CQDO4JCqTThV",
    "slideshow": {
     "slide_type": "-"
    }
   },
   "source": [
    "![alt text](SampleData.png \"Sample Data\")\n"
   ]
  },
  {
   "cell_type": "code",
   "execution_count": null,
   "metadata": {},
   "outputs": [],
   "source": []
  },
  {
   "cell_type": "markdown",
   "metadata": {
    "colab_type": "text",
    "id": "FPSqz1wzTXvz"
   },
   "source": [
    "## 1. Importing the required libraries"
   ]
  },
  {
   "cell_type": "markdown",
   "metadata": {
    "colab_type": "text",
    "id": "9eLMx1Ebwa92"
   },
   "source": [
    "Below are the libraries that are used in order to perform Exploratory data analysis in this tutorial."
   ]
  },
  {
   "cell_type": "code",
   "execution_count": 52,
   "metadata": {
    "colab": {},
    "colab_type": "code",
    "id": "GGyDovL2QDLa"
   },
   "outputs": [],
   "source": [
    "import pandas as pd\n",
    "import numpy as np\n",
    "import seaborn as sns                       #visualisation\n",
    "import matplotlib.pyplot as plt             #visualisation\n",
    "%matplotlib inline     \n",
    "sns.set(color_codes=True)"
   ]
  },
  {
   "cell_type": "markdown",
   "metadata": {
    "colab_type": "text",
    "id": "Ye6eXuohTd5Q"
   },
   "source": [
    "\n",
    "\n",
    "---\n",
    "\n"
   ]
  },
  {
   "cell_type": "markdown",
   "metadata": {
    "colab_type": "text",
    "id": "8Y3Z2DbKTfJt"
   },
   "source": [
    "## 2. Loading the data into the data frame."
   ]
  },
  {
   "cell_type": "markdown",
   "metadata": {
    "colab_type": "text",
    "id": "ko5zGJFCySaz"
   },
   "source": [
    "Our data is saved in csv format. Now lets import that into pandas as a dataframe and confirm that the data is same as the sample data above(taken from excel)"
   ]
  },
  {
   "cell_type": "code",
   "execution_count": 53,
   "metadata": {
    "colab": {
     "base_uri": "https://localhost:8080/",
     "height": 430
    },
    "colab_type": "code",
    "id": "0oVZnezwQ159",
    "outputId": "f1e0fe18-8fa0-482a-e2b9-2ecd87d97d9d"
   },
   "outputs": [
    {
     "data": {
      "text/html": [
       "<div>\n",
       "<style scoped>\n",
       "    .dataframe tbody tr th:only-of-type {\n",
       "        vertical-align: middle;\n",
       "    }\n",
       "\n",
       "    .dataframe tbody tr th {\n",
       "        vertical-align: top;\n",
       "    }\n",
       "\n",
       "    .dataframe thead th {\n",
       "        text-align: right;\n",
       "    }\n",
       "</style>\n",
       "<table border=\"1\" class=\"dataframe\">\n",
       "  <thead>\n",
       "    <tr style=\"text-align: right;\">\n",
       "      <th></th>\n",
       "      <th>Date</th>\n",
       "      <th>vixChange</th>\n",
       "      <th>netChange</th>\n",
       "      <th>prevChangeNF</th>\n",
       "      <th>prevChangeBNF</th>\n",
       "      <th>NFOIChange</th>\n",
       "      <th>BNFOIChange</th>\n",
       "      <th>basisChange</th>\n",
       "      <th>opengap1</th>\n",
       "      <th>closegap1</th>\n",
       "      <th>highgap1</th>\n",
       "      <th>lowgap1</th>\n",
       "    </tr>\n",
       "  </thead>\n",
       "  <tbody>\n",
       "    <tr>\n",
       "      <th>0</th>\n",
       "      <td>2013-12-30</td>\n",
       "      <td>2.86</td>\n",
       "      <td>8.0</td>\n",
       "      <td>0.4</td>\n",
       "      <td>0.4</td>\n",
       "      <td>4.15</td>\n",
       "      <td>6.95</td>\n",
       "      <td>-12.0</td>\n",
       "      <td>0.2</td>\n",
       "      <td>-0.6</td>\n",
       "      <td>0.3</td>\n",
       "      <td>-0.8</td>\n",
       "    </tr>\n",
       "    <tr>\n",
       "      <th>1</th>\n",
       "      <td>2014-01-01</td>\n",
       "      <td>3.04</td>\n",
       "      <td>10.0</td>\n",
       "      <td>0.3</td>\n",
       "      <td>0.1</td>\n",
       "      <td>-2.51</td>\n",
       "      <td>-0.58</td>\n",
       "      <td>-23.0</td>\n",
       "      <td>0.5</td>\n",
       "      <td>0.4</td>\n",
       "      <td>0.6</td>\n",
       "      <td>0.2</td>\n",
       "    </tr>\n",
       "    <tr>\n",
       "      <th>2</th>\n",
       "      <td>2014-01-02</td>\n",
       "      <td>6.23</td>\n",
       "      <td>6.0</td>\n",
       "      <td>0.1</td>\n",
       "      <td>0.2</td>\n",
       "      <td>0.34</td>\n",
       "      <td>4.58</td>\n",
       "      <td>-11.0</td>\n",
       "      <td>-0.1</td>\n",
       "      <td>-1.6</td>\n",
       "      <td>0.8</td>\n",
       "      <td>-1.8</td>\n",
       "    </tr>\n",
       "    <tr>\n",
       "      <th>3</th>\n",
       "      <td>2014-01-03</td>\n",
       "      <td>-4.11</td>\n",
       "      <td>-32.0</td>\n",
       "      <td>-1.6</td>\n",
       "      <td>-2.2</td>\n",
       "      <td>-2.50</td>\n",
       "      <td>-1.20</td>\n",
       "      <td>-31.0</td>\n",
       "      <td>-0.5</td>\n",
       "      <td>-0.1</td>\n",
       "      <td>0.1</td>\n",
       "      <td>-0.9</td>\n",
       "    </tr>\n",
       "    <tr>\n",
       "      <th>4</th>\n",
       "      <td>2014-01-06</td>\n",
       "      <td>3.97</td>\n",
       "      <td>-5.0</td>\n",
       "      <td>-0.1</td>\n",
       "      <td>0.2</td>\n",
       "      <td>-8.82</td>\n",
       "      <td>4.86</td>\n",
       "      <td>6.0</td>\n",
       "      <td>-0.2</td>\n",
       "      <td>-0.4</td>\n",
       "      <td>-0.0</td>\n",
       "      <td>-0.8</td>\n",
       "    </tr>\n",
       "  </tbody>\n",
       "</table>\n",
       "</div>"
      ],
      "text/plain": [
       "         Date  vixChange  netChange  prevChangeNF  prevChangeBNF  NFOIChange  \\\n",
       "0  2013-12-30       2.86        8.0           0.4            0.4        4.15   \n",
       "1  2014-01-01       3.04       10.0           0.3            0.1       -2.51   \n",
       "2  2014-01-02       6.23        6.0           0.1            0.2        0.34   \n",
       "3  2014-01-03      -4.11      -32.0          -1.6           -2.2       -2.50   \n",
       "4  2014-01-06       3.97       -5.0          -0.1            0.2       -8.82   \n",
       "\n",
       "   BNFOIChange  basisChange  opengap1  closegap1  highgap1  lowgap1  \n",
       "0         6.95        -12.0       0.2       -0.6       0.3     -0.8  \n",
       "1        -0.58        -23.0       0.5        0.4       0.6      0.2  \n",
       "2         4.58        -11.0      -0.1       -1.6       0.8     -1.8  \n",
       "3        -1.20        -31.0      -0.5       -0.1       0.1     -0.9  \n",
       "4         4.86          6.0      -0.2       -0.4      -0.0     -0.8  "
      ]
     },
     "execution_count": 53,
     "metadata": {},
     "output_type": "execute_result"
    }
   ],
   "source": [
    "df = pd.read_csv(\"data.csv\")\n",
    "# To display the top 5 rows \n",
    "df.head(5)               "
   ]
  },
  {
   "cell_type": "code",
   "execution_count": 54,
   "metadata": {
    "colab": {
     "base_uri": "https://localhost:8080/",
     "height": 413
    },
    "colab_type": "code",
    "id": "Fm-9dzdTRKpe",
    "outputId": "7892eaf7-0605-4b92-e139-cf0553041e51"
   },
   "outputs": [
    {
     "data": {
      "text/html": [
       "<div>\n",
       "<style scoped>\n",
       "    .dataframe tbody tr th:only-of-type {\n",
       "        vertical-align: middle;\n",
       "    }\n",
       "\n",
       "    .dataframe tbody tr th {\n",
       "        vertical-align: top;\n",
       "    }\n",
       "\n",
       "    .dataframe thead th {\n",
       "        text-align: right;\n",
       "    }\n",
       "</style>\n",
       "<table border=\"1\" class=\"dataframe\">\n",
       "  <thead>\n",
       "    <tr style=\"text-align: right;\">\n",
       "      <th></th>\n",
       "      <th>Date</th>\n",
       "      <th>vixChange</th>\n",
       "      <th>netChange</th>\n",
       "      <th>prevChangeNF</th>\n",
       "      <th>prevChangeBNF</th>\n",
       "      <th>NFOIChange</th>\n",
       "      <th>BNFOIChange</th>\n",
       "      <th>basisChange</th>\n",
       "      <th>opengap1</th>\n",
       "      <th>closegap1</th>\n",
       "      <th>highgap1</th>\n",
       "      <th>lowgap1</th>\n",
       "    </tr>\n",
       "  </thead>\n",
       "  <tbody>\n",
       "    <tr>\n",
       "      <th>1238</th>\n",
       "      <td>2018-12-21</td>\n",
       "      <td>11.58</td>\n",
       "      <td>-11.0</td>\n",
       "      <td>-0.1</td>\n",
       "      <td>-0.1</td>\n",
       "      <td>-1.03</td>\n",
       "      <td>-2.12</td>\n",
       "      <td>6.0</td>\n",
       "      <td>-0.2</td>\n",
       "      <td>-1.9</td>\n",
       "      <td>0.0</td>\n",
       "      <td>-2.0</td>\n",
       "    </tr>\n",
       "    <tr>\n",
       "      <th>1239</th>\n",
       "      <td>2018-12-24</td>\n",
       "      <td>-1.52</td>\n",
       "      <td>-43.0</td>\n",
       "      <td>-1.9</td>\n",
       "      <td>-1.5</td>\n",
       "      <td>-3.35</td>\n",
       "      <td>-4.06</td>\n",
       "      <td>-11.0</td>\n",
       "      <td>-0.1</td>\n",
       "      <td>-0.8</td>\n",
       "      <td>0.2</td>\n",
       "      <td>-1.0</td>\n",
       "    </tr>\n",
       "    <tr>\n",
       "      <th>1240</th>\n",
       "      <td>2018-12-26</td>\n",
       "      <td>1.08</td>\n",
       "      <td>-24.0</td>\n",
       "      <td>-0.8</td>\n",
       "      <td>-0.6</td>\n",
       "      <td>-26.12</td>\n",
       "      <td>-7.52</td>\n",
       "      <td>4.0</td>\n",
       "      <td>-0.4</td>\n",
       "      <td>0.6</td>\n",
       "      <td>0.7</td>\n",
       "      <td>-1.4</td>\n",
       "    </tr>\n",
       "    <tr>\n",
       "      <th>1241</th>\n",
       "      <td>2018-12-27</td>\n",
       "      <td>0.96</td>\n",
       "      <td>19.0</td>\n",
       "      <td>0.6</td>\n",
       "      <td>0.9</td>\n",
       "      <td>-25.39</td>\n",
       "      <td>-24.56</td>\n",
       "      <td>0.0</td>\n",
       "      <td>1.0</td>\n",
       "      <td>0.6</td>\n",
       "      <td>1.2</td>\n",
       "      <td>0.5</td>\n",
       "    </tr>\n",
       "    <tr>\n",
       "      <th>1242</th>\n",
       "      <td>2018-12-28</td>\n",
       "      <td>-4.99</td>\n",
       "      <td>6.0</td>\n",
       "      <td>0.6</td>\n",
       "      <td>-0.0</td>\n",
       "      <td>25.65</td>\n",
       "      <td>51.26</td>\n",
       "      <td>11.0</td>\n",
       "      <td>0.4</td>\n",
       "      <td>0.9</td>\n",
       "      <td>1.3</td>\n",
       "      <td>0.4</td>\n",
       "    </tr>\n",
       "  </tbody>\n",
       "</table>\n",
       "</div>"
      ],
      "text/plain": [
       "            Date  vixChange  netChange  prevChangeNF  prevChangeBNF  \\\n",
       "1238  2018-12-21      11.58      -11.0          -0.1           -0.1   \n",
       "1239  2018-12-24      -1.52      -43.0          -1.9           -1.5   \n",
       "1240  2018-12-26       1.08      -24.0          -0.8           -0.6   \n",
       "1241  2018-12-27       0.96       19.0           0.6            0.9   \n",
       "1242  2018-12-28      -4.99        6.0           0.6           -0.0   \n",
       "\n",
       "      NFOIChange  BNFOIChange  basisChange  opengap1  closegap1  highgap1  \\\n",
       "1238       -1.03        -2.12          6.0      -0.2       -1.9       0.0   \n",
       "1239       -3.35        -4.06        -11.0      -0.1       -0.8       0.2   \n",
       "1240      -26.12        -7.52          4.0      -0.4        0.6       0.7   \n",
       "1241      -25.39       -24.56          0.0       1.0        0.6       1.2   \n",
       "1242       25.65        51.26         11.0       0.4        0.9       1.3   \n",
       "\n",
       "      lowgap1  \n",
       "1238     -2.0  \n",
       "1239     -1.0  \n",
       "1240     -1.4  \n",
       "1241      0.5  \n",
       "1242      0.4  "
      ]
     },
     "execution_count": 54,
     "metadata": {},
     "output_type": "execute_result"
    }
   ],
   "source": [
    "df.tail(5)                        # To display the botton 5 rows"
   ]
  },
  {
   "cell_type": "markdown",
   "metadata": {
    "colab_type": "text",
    "id": "JjQnr4SPzaL5"
   },
   "source": [
    "\n",
    "As we can see the data is proper(from 30th Dec 2013 to 28th Dec 2018)\n",
    "---\n",
    "\n"
   ]
  },
  {
   "cell_type": "markdown",
   "metadata": {
    "colab_type": "text",
    "id": "vAmC369yTpMF"
   },
   "source": [
    "## 3. Checking the types of data"
   ]
  },
  {
   "cell_type": "markdown",
   "metadata": {
    "colab_type": "text",
    "id": "9ESKxikIzA1d"
   },
   "source": [
    "Before running any analysis, lets first make sure data types saved are correct in the pandas dataframe"
   ]
  },
  {
   "cell_type": "code",
   "execution_count": 55,
   "metadata": {
    "colab": {
     "base_uri": "https://localhost:8080/",
     "height": 312
    },
    "colab_type": "code",
    "id": "qPbKQ0noRptD",
    "outputId": "6a5aea47-ad0c-4118-8471-d91b6432b339"
   },
   "outputs": [
    {
     "data": {
      "text/plain": [
       "Date              object\n",
       "vixChange        float64\n",
       "netChange        float64\n",
       "prevChangeNF     float64\n",
       "prevChangeBNF    float64\n",
       "NFOIChange       float64\n",
       "BNFOIChange      float64\n",
       "basisChange      float64\n",
       "opengap1         float64\n",
       "closegap1        float64\n",
       "highgap1         float64\n",
       "lowgap1          float64\n",
       "dtype: object"
      ]
     },
     "execution_count": 55,
     "metadata": {},
     "output_type": "execute_result"
    }
   ],
   "source": [
    "df.dtypes"
   ]
  },
  {
   "cell_type": "markdown",
   "metadata": {
    "colab_type": "text",
    "id": "beRJyQAezdX8"
   },
   "source": [
    "\n",
    "\n",
    "---\n",
    "\n"
   ]
  },
  {
   "cell_type": "markdown",
   "metadata": {
    "colab_type": "text",
    "id": "QoHuBhXxT5E9"
   },
   "source": [
    "## 4. Dropping irrelevant columns"
   ]
  },
  {
   "cell_type": "markdown",
   "metadata": {
    "colab_type": "text",
    "id": "_3cy877Mze4H"
   },
   "source": [
    "Since right now, we want to look at only at next day, we drop the highgap1(next day high), lowgap1(next day low) and opengap1(next day open) columns"
   ]
  },
  {
   "cell_type": "code",
   "execution_count": 56,
   "metadata": {
    "colab": {
     "base_uri": "https://localhost:8080/",
     "height": 202
    },
    "colab_type": "code",
    "id": "uvSkK8swTr9H",
    "outputId": "1734f538-a4a1-45b9-d656-7ddc0124dc35"
   },
   "outputs": [
    {
     "data": {
      "text/html": [
       "<div>\n",
       "<style scoped>\n",
       "    .dataframe tbody tr th:only-of-type {\n",
       "        vertical-align: middle;\n",
       "    }\n",
       "\n",
       "    .dataframe tbody tr th {\n",
       "        vertical-align: top;\n",
       "    }\n",
       "\n",
       "    .dataframe thead th {\n",
       "        text-align: right;\n",
       "    }\n",
       "</style>\n",
       "<table border=\"1\" class=\"dataframe\">\n",
       "  <thead>\n",
       "    <tr style=\"text-align: right;\">\n",
       "      <th></th>\n",
       "      <th>Date</th>\n",
       "      <th>vixChange</th>\n",
       "      <th>netChange</th>\n",
       "      <th>prevChangeNF</th>\n",
       "      <th>prevChangeBNF</th>\n",
       "      <th>NFOIChange</th>\n",
       "      <th>BNFOIChange</th>\n",
       "      <th>basisChange</th>\n",
       "      <th>closegap1</th>\n",
       "    </tr>\n",
       "  </thead>\n",
       "  <tbody>\n",
       "    <tr>\n",
       "      <th>0</th>\n",
       "      <td>2013-12-30</td>\n",
       "      <td>2.86</td>\n",
       "      <td>8.0</td>\n",
       "      <td>0.4</td>\n",
       "      <td>0.4</td>\n",
       "      <td>4.15</td>\n",
       "      <td>6.95</td>\n",
       "      <td>-12.0</td>\n",
       "      <td>-0.6</td>\n",
       "    </tr>\n",
       "    <tr>\n",
       "      <th>1</th>\n",
       "      <td>2014-01-01</td>\n",
       "      <td>3.04</td>\n",
       "      <td>10.0</td>\n",
       "      <td>0.3</td>\n",
       "      <td>0.1</td>\n",
       "      <td>-2.51</td>\n",
       "      <td>-0.58</td>\n",
       "      <td>-23.0</td>\n",
       "      <td>0.4</td>\n",
       "    </tr>\n",
       "    <tr>\n",
       "      <th>2</th>\n",
       "      <td>2014-01-02</td>\n",
       "      <td>6.23</td>\n",
       "      <td>6.0</td>\n",
       "      <td>0.1</td>\n",
       "      <td>0.2</td>\n",
       "      <td>0.34</td>\n",
       "      <td>4.58</td>\n",
       "      <td>-11.0</td>\n",
       "      <td>-1.6</td>\n",
       "    </tr>\n",
       "    <tr>\n",
       "      <th>3</th>\n",
       "      <td>2014-01-03</td>\n",
       "      <td>-4.11</td>\n",
       "      <td>-32.0</td>\n",
       "      <td>-1.6</td>\n",
       "      <td>-2.2</td>\n",
       "      <td>-2.50</td>\n",
       "      <td>-1.20</td>\n",
       "      <td>-31.0</td>\n",
       "      <td>-0.1</td>\n",
       "    </tr>\n",
       "    <tr>\n",
       "      <th>4</th>\n",
       "      <td>2014-01-06</td>\n",
       "      <td>3.97</td>\n",
       "      <td>-5.0</td>\n",
       "      <td>-0.1</td>\n",
       "      <td>0.2</td>\n",
       "      <td>-8.82</td>\n",
       "      <td>4.86</td>\n",
       "      <td>6.0</td>\n",
       "      <td>-0.4</td>\n",
       "    </tr>\n",
       "  </tbody>\n",
       "</table>\n",
       "</div>"
      ],
      "text/plain": [
       "         Date  vixChange  netChange  prevChangeNF  prevChangeBNF  NFOIChange  \\\n",
       "0  2013-12-30       2.86        8.0           0.4            0.4        4.15   \n",
       "1  2014-01-01       3.04       10.0           0.3            0.1       -2.51   \n",
       "2  2014-01-02       6.23        6.0           0.1            0.2        0.34   \n",
       "3  2014-01-03      -4.11      -32.0          -1.6           -2.2       -2.50   \n",
       "4  2014-01-06       3.97       -5.0          -0.1            0.2       -8.82   \n",
       "\n",
       "   BNFOIChange  basisChange  closegap1  \n",
       "0         6.95        -12.0       -0.6  \n",
       "1        -0.58        -23.0        0.4  \n",
       "2         4.58        -11.0       -1.6  \n",
       "3        -1.20        -31.0       -0.1  \n",
       "4         4.86          6.0       -0.4  "
      ]
     },
     "execution_count": 56,
     "metadata": {},
     "output_type": "execute_result"
    }
   ],
   "source": [
    "df = df.drop(['opengap1', 'highgap1', 'lowgap1'], axis=1)\n",
    "df.head(5)"
   ]
  },
  {
   "cell_type": "markdown",
   "metadata": {
    "colab_type": "text",
    "id": "20OeQBpWz89v"
   },
   "source": [
    "We have lesser and more manageable number of columns now. Only closegap1 is our output column. Rest are input data columns.\n",
    "\n",
    "---\n",
    "\n"
   ]
  },
  {
   "cell_type": "markdown",
   "metadata": {
    "colab_type": "text",
    "id": "caAownWdUZso"
   },
   "source": [
    "## 5. Renaming the columns"
   ]
  },
  {
   "cell_type": "markdown",
   "metadata": {
    "colab_type": "text",
    "id": "UABLiEcyz-2G"
   },
   "source": [
    "For the sake of our tutorial, let us rename some columns to have more descriptive names"
   ]
  },
  {
   "cell_type": "code",
   "execution_count": 57,
   "metadata": {
    "colab": {
     "base_uri": "https://localhost:8080/",
     "height": 202
    },
    "colab_type": "code",
    "id": "1wHW41whURub",
    "outputId": "dec9b1b3-e344-4b33-92fd-6e9f4c03c878"
   },
   "outputs": [
    {
     "data": {
      "text/html": [
       "<div>\n",
       "<style scoped>\n",
       "    .dataframe tbody tr th:only-of-type {\n",
       "        vertical-align: middle;\n",
       "    }\n",
       "\n",
       "    .dataframe tbody tr th {\n",
       "        vertical-align: top;\n",
       "    }\n",
       "\n",
       "    .dataframe thead th {\n",
       "        text-align: right;\n",
       "    }\n",
       "</style>\n",
       "<table border=\"1\" class=\"dataframe\">\n",
       "  <thead>\n",
       "    <tr style=\"text-align: right;\">\n",
       "      <th></th>\n",
       "      <th>Date</th>\n",
       "      <th>vixChange</th>\n",
       "      <th>AdvDecline</th>\n",
       "      <th>NIFTY Price Change</th>\n",
       "      <th>BANKNIFTY Price Change</th>\n",
       "      <th>NFOIChange</th>\n",
       "      <th>BNFOIChange</th>\n",
       "      <th>basisChange</th>\n",
       "      <th>Next Day Change</th>\n",
       "    </tr>\n",
       "  </thead>\n",
       "  <tbody>\n",
       "    <tr>\n",
       "      <th>0</th>\n",
       "      <td>2013-12-30</td>\n",
       "      <td>2.86</td>\n",
       "      <td>8.0</td>\n",
       "      <td>0.4</td>\n",
       "      <td>0.4</td>\n",
       "      <td>4.15</td>\n",
       "      <td>6.95</td>\n",
       "      <td>-12.0</td>\n",
       "      <td>-0.6</td>\n",
       "    </tr>\n",
       "    <tr>\n",
       "      <th>1</th>\n",
       "      <td>2014-01-01</td>\n",
       "      <td>3.04</td>\n",
       "      <td>10.0</td>\n",
       "      <td>0.3</td>\n",
       "      <td>0.1</td>\n",
       "      <td>-2.51</td>\n",
       "      <td>-0.58</td>\n",
       "      <td>-23.0</td>\n",
       "      <td>0.4</td>\n",
       "    </tr>\n",
       "    <tr>\n",
       "      <th>2</th>\n",
       "      <td>2014-01-02</td>\n",
       "      <td>6.23</td>\n",
       "      <td>6.0</td>\n",
       "      <td>0.1</td>\n",
       "      <td>0.2</td>\n",
       "      <td>0.34</td>\n",
       "      <td>4.58</td>\n",
       "      <td>-11.0</td>\n",
       "      <td>-1.6</td>\n",
       "    </tr>\n",
       "    <tr>\n",
       "      <th>3</th>\n",
       "      <td>2014-01-03</td>\n",
       "      <td>-4.11</td>\n",
       "      <td>-32.0</td>\n",
       "      <td>-1.6</td>\n",
       "      <td>-2.2</td>\n",
       "      <td>-2.50</td>\n",
       "      <td>-1.20</td>\n",
       "      <td>-31.0</td>\n",
       "      <td>-0.1</td>\n",
       "    </tr>\n",
       "    <tr>\n",
       "      <th>4</th>\n",
       "      <td>2014-01-06</td>\n",
       "      <td>3.97</td>\n",
       "      <td>-5.0</td>\n",
       "      <td>-0.1</td>\n",
       "      <td>0.2</td>\n",
       "      <td>-8.82</td>\n",
       "      <td>4.86</td>\n",
       "      <td>6.0</td>\n",
       "      <td>-0.4</td>\n",
       "    </tr>\n",
       "  </tbody>\n",
       "</table>\n",
       "</div>"
      ],
      "text/plain": [
       "         Date  vixChange  AdvDecline  NIFTY Price Change  \\\n",
       "0  2013-12-30       2.86         8.0                 0.4   \n",
       "1  2014-01-01       3.04        10.0                 0.3   \n",
       "2  2014-01-02       6.23         6.0                 0.1   \n",
       "3  2014-01-03      -4.11       -32.0                -1.6   \n",
       "4  2014-01-06       3.97        -5.0                -0.1   \n",
       "\n",
       "   BANKNIFTY Price Change  NFOIChange  BNFOIChange  basisChange  \\\n",
       "0                     0.4        4.15         6.95        -12.0   \n",
       "1                     0.1       -2.51        -0.58        -23.0   \n",
       "2                     0.2        0.34         4.58        -11.0   \n",
       "3                    -2.2       -2.50        -1.20        -31.0   \n",
       "4                     0.2       -8.82         4.86          6.0   \n",
       "\n",
       "   Next Day Change  \n",
       "0             -0.6  \n",
       "1              0.4  \n",
       "2             -1.6  \n",
       "3             -0.1  \n",
       "4             -0.4  "
      ]
     },
     "execution_count": 57,
     "metadata": {},
     "output_type": "execute_result"
    }
   ],
   "source": [
    "df = df.rename(columns={\"netChange\": \"AdvDecline\", \"prevChangeNF\": \"NIFTY Price Change\", \"prevChangeBNF\": \"BANKNIFTY Price Change\",\"closegap1\":\"Next Day Change\" })\n",
    "df.head(5)"
   ]
  },
  {
   "cell_type": "markdown",
   "metadata": {
    "colab_type": "text",
    "id": "5tcGiOmV0afN"
   },
   "source": [
    "\n",
    "\n",
    "---\n",
    "\n"
   ]
  },
  {
   "cell_type": "markdown",
   "metadata": {
    "colab_type": "text",
    "id": "JkXUQtyQW3Dy"
   },
   "source": [
    "## 6. Dropping the missing or null values."
   ]
  },
  {
   "cell_type": "markdown",
   "metadata": {
    "colab_type": "text",
    "id": "K5pKvJi41YCp"
   },
   "source": [
    "Let us make sure there are no missing values"
   ]
  },
  {
   "cell_type": "code",
   "execution_count": 58,
   "metadata": {},
   "outputs": [
    {
     "name": "stdout",
     "output_type": "stream",
     "text": [
      "<bound method DataFrame.count of             Date  vixChange  AdvDecline  NIFTY Price Change  \\\n",
      "0     2013-12-30       2.86         8.0                 0.4   \n",
      "1     2014-01-01       3.04        10.0                 0.3   \n",
      "2     2014-01-02       6.23         6.0                 0.1   \n",
      "3     2014-01-03      -4.11       -32.0                -1.6   \n",
      "4     2014-01-06       3.97        -5.0                -0.1   \n",
      "...          ...        ...         ...                 ...   \n",
      "1238  2018-12-21      11.58       -11.0                -0.1   \n",
      "1239  2018-12-24      -1.52       -43.0                -1.9   \n",
      "1240  2018-12-26       1.08       -24.0                -0.8   \n",
      "1241  2018-12-27       0.96        19.0                 0.6   \n",
      "1242  2018-12-28      -4.99         6.0                 0.6   \n",
      "\n",
      "      BANKNIFTY Price Change  NFOIChange  BNFOIChange  basisChange  \\\n",
      "0                        0.4        4.15         6.95        -12.0   \n",
      "1                        0.1       -2.51        -0.58        -23.0   \n",
      "2                        0.2        0.34         4.58        -11.0   \n",
      "3                       -2.2       -2.50        -1.20        -31.0   \n",
      "4                        0.2       -8.82         4.86          6.0   \n",
      "...                      ...         ...          ...          ...   \n",
      "1238                    -0.1       -1.03        -2.12          6.0   \n",
      "1239                    -1.5       -3.35        -4.06        -11.0   \n",
      "1240                    -0.6      -26.12        -7.52          4.0   \n",
      "1241                     0.9      -25.39       -24.56          0.0   \n",
      "1242                    -0.0       25.65        51.26         11.0   \n",
      "\n",
      "      Next Day Change  \n",
      "0                -0.6  \n",
      "1                 0.4  \n",
      "2                -1.6  \n",
      "3                -0.1  \n",
      "4                -0.4  \n",
      "...               ...  \n",
      "1238             -1.9  \n",
      "1239             -0.8  \n",
      "1240              0.6  \n",
      "1241              0.6  \n",
      "1242              0.9  \n",
      "\n",
      "[1243 rows x 9 columns]>\n"
     ]
    }
   ],
   "source": [
    "print(df.count)"
   ]
  },
  {
   "cell_type": "code",
   "execution_count": 59,
   "metadata": {
    "colab": {
     "base_uri": "https://localhost:8080/",
     "height": 208
    },
    "colab_type": "code",
    "id": "Tzdlg-1OWjMz",
    "outputId": "7375ab6e-1473-4346-e5b5-0c61189cc716"
   },
   "outputs": [
    {
     "name": "stdout",
     "output_type": "stream",
     "text": [
      "Date                      0\n",
      "vixChange                 0\n",
      "AdvDecline                0\n",
      "NIFTY Price Change        0\n",
      "BANKNIFTY Price Change    0\n",
      "NFOIChange                0\n",
      "BNFOIChange               0\n",
      "basisChange               0\n",
      "Next Day Change           0\n",
      "dtype: int64\n"
     ]
    }
   ],
   "source": [
    "print(df.isnull().sum())"
   ]
  },
  {
   "cell_type": "markdown",
   "metadata": {
    "colab_type": "text",
    "id": "iWJqTVxTJQnO"
   },
   "source": []
  },
  {
   "cell_type": "code",
   "execution_count": 60,
   "metadata": {
    "colab": {
     "base_uri": "https://localhost:8080/",
     "height": 208
    },
    "colab_type": "code",
    "id": "KbbV0xHPWoad",
    "outputId": "17dda8ec-1282-4814-de79-8f5e1aff3a5f"
   },
   "outputs": [],
   "source": [
    "#df = df.dropna()    # Dropping the missing values.\n",
    "#df.count()"
   ]
  },
  {
   "cell_type": "markdown",
   "metadata": {
    "colab_type": "text",
    "id": "2t7L9l2mJSoX"
   },
   "source": [
    "If we uncomment code above, we can remove the null rows"
   ]
  },
  {
   "cell_type": "code",
   "execution_count": 61,
   "metadata": {
    "colab": {
     "base_uri": "https://localhost:8080/",
     "height": 208
    },
    "colab_type": "code",
    "id": "V-DmX1O4Wtox",
    "outputId": "2d50fc20-3535-413b-e317-75a7f94fa2a2"
   },
   "outputs": [],
   "source": [
    "#print(df.isnull().sum())   # After dropping the values"
   ]
  },
  {
   "cell_type": "markdown",
   "metadata": {
    "colab_type": "text",
    "id": "bk8RAHqQJVJK"
   },
   "source": [
    "\n",
    "\n",
    "---\n",
    "\n"
   ]
  },
  {
   "cell_type": "markdown",
   "metadata": {
    "colab_type": "text",
    "id": "8Py3sQc_ZxyU"
   },
   "source": [
    "## 7. Detecting Outliers"
   ]
  },
  {
   "cell_type": "markdown",
   "metadata": {
    "colab_type": "text",
    "id": "1g6CJPofZzHN"
   },
   "source": [
    "Always a good idea to check outliers in the data visually as outliers can affect final analysis disproportionately\n",
    "For this, we will use box plot which use the concept of IQR(Inter quartile range). \n",
    "https://towardsdatascience.com/understanding-boxplots-5e2df7bcbd51\n",
    "\n",
    "The box covers 25th to 75th percentile of the data. Difference between 25th and 7th percentile is IQR. The two vertical lines are 1.5times IQR away from 25th and 75th percentile. Plotted points are outliers."
   ]
  },
  {
   "cell_type": "markdown",
   "metadata": {
    "colab_type": "text",
    "id": "CQDO4JCqTThV",
    "slideshow": {
     "slide_type": "-"
    }
   },
   "source": [
    "![alt text](boxplot.png \"Box Plot Basic\")\n"
   ]
  },
  {
   "cell_type": "code",
   "execution_count": 62,
   "metadata": {
    "colab": {
     "base_uri": "https://localhost:8080/",
     "height": 309
    },
    "colab_type": "code",
    "id": "vtxX_y6zZ2ri",
    "outputId": "e3f93522-9244-4c32-c34c-103e0834e93b"
   },
   "outputs": [
    {
     "data": {
      "text/plain": [
       "<matplotlib.axes._subplots.AxesSubplot at 0x11d45b5d0>"
      ]
     },
     "execution_count": 62,
     "metadata": {},
     "output_type": "execute_result"
    },
    {
     "data": {
      "image/png": "[encoded data removed]",
      "text/plain": [
       "<Figure size 432x288 with 1 Axes>"
      ]
     },
     "metadata": {},
     "output_type": "display_data"
    }
   ],
   "source": [
    "sns.boxplot(x=df['vixChange'])"
   ]
  },
  {
   "cell_type": "code",
   "execution_count": 63,
   "metadata": {
    "colab": {
     "base_uri": "https://localhost:8080/",
     "height": 309
    },
    "colab_type": "code",
    "id": "9HtvQYVHZ8u5",
    "outputId": "3dc30a01-6fb1-41d9-dec8-0ceeead6a358"
   },
   "outputs": [
    {
     "data": {
      "text/plain": [
       "<matplotlib.axes._subplots.AxesSubplot at 0x11af305d0>"
      ]
     },
     "execution_count": 63,
     "metadata": {},
     "output_type": "execute_result"
    },
    {
     "data": {
      "image/png": "[encoded data removed]",
      "text/plain": [
       "<Figure size 432x288 with 1 Axes>"
      ]
     },
     "metadata": {},
     "output_type": "display_data"
    }
   ],
   "source": [
    "sns.boxplot(x=df['AdvDecline'])"
   ]
  },
  {
   "cell_type": "code",
   "execution_count": 64,
   "metadata": {
    "colab": {
     "base_uri": "https://localhost:8080/",
     "height": 309
    },
    "colab_type": "code",
    "id": "Xz3MwIjbaBUr",
    "outputId": "335d1e55-55a3-4e61-8401-a414580d9d62"
   },
   "outputs": [
    {
     "data": {
      "text/plain": [
       "<matplotlib.axes._subplots.AxesSubplot at 0x11d1a2390>"
      ]
     },
     "execution_count": 64,
     "metadata": {},
     "output_type": "execute_result"
    },
    {
     "data": {
      "image/png": "[encoded data removed]",
      "text/plain": [
       "<Figure size 432x288 with 1 Axes>"
      ]
     },
     "metadata": {},
     "output_type": "display_data"
    }
   ],
   "source": [
    "sns.boxplot(x=df['NIFTY Price Change'])"
   ]
  },
  {
   "cell_type": "code",
   "execution_count": 65,
   "metadata": {
    "colab": {
     "base_uri": "https://localhost:8080/",
     "height": 309
    },
    "colab_type": "code",
    "id": "Xz3MwIjbaBUr",
    "outputId": "335d1e55-55a3-4e61-8401-a414580d9d62"
   },
   "outputs": [
    {
     "data": {
      "text/plain": [
       "<matplotlib.axes._subplots.AxesSubplot at 0x11d43bb90>"
      ]
     },
     "execution_count": 65,
     "metadata": {},
     "output_type": "execute_result"
    },
    {
     "data": {
      "image/png": "[encoded data removed]",
      "text/plain": [
       "<Figure size 432x288 with 1 Axes>"
      ]
     },
     "metadata": {},
     "output_type": "display_data"
    }
   ],
   "source": [
    "sns.boxplot(x=df['BANKNIFTY Price Change'])"
   ]
  },
  {
   "cell_type": "code",
   "execution_count": 66,
   "metadata": {
    "colab": {
     "base_uri": "https://localhost:8080/",
     "height": 309
    },
    "colab_type": "code",
    "id": "Xz3MwIjbaBUr",
    "outputId": "335d1e55-55a3-4e61-8401-a414580d9d62"
   },
   "outputs": [
    {
     "data": {
      "text/plain": [
       "<matplotlib.axes._subplots.AxesSubplot at 0x11cfa3950>"
      ]
     },
     "execution_count": 66,
     "metadata": {},
     "output_type": "execute_result"
    },
    {
     "data": {
      "image/png": "[encoded data removed]",
      "text/plain": [
       "<Figure size 432x288 with 1 Axes>"
      ]
     },
     "metadata": {},
     "output_type": "display_data"
    }
   ],
   "source": [
    "sns.boxplot(x=df['NFOIChange'])"
   ]
  },
  {
   "cell_type": "code",
   "execution_count": 67,
   "metadata": {
    "colab": {
     "base_uri": "https://localhost:8080/",
     "height": 309
    },
    "colab_type": "code",
    "id": "Xz3MwIjbaBUr",
    "outputId": "335d1e55-55a3-4e61-8401-a414580d9d62"
   },
   "outputs": [
    {
     "data": {
      "text/plain": [
       "<matplotlib.axes._subplots.AxesSubplot at 0x11db62610>"
      ]
     },
     "execution_count": 67,
     "metadata": {},
     "output_type": "execute_result"
    },
    {
     "data": {
      "image/png": "[encoded data removed]",
      "text/plain": [
       "<Figure size 432x288 with 1 Axes>"
      ]
     },
     "metadata": {},
     "output_type": "display_data"
    }
   ],
   "source": [
    "sns.boxplot(x=df['BNFOIChange'])"
   ]
  },
  {
   "cell_type": "code",
   "execution_count": 68,
   "metadata": {
    "colab": {
     "base_uri": "https://localhost:8080/",
     "height": 309
    },
    "colab_type": "code",
    "id": "Xz3MwIjbaBUr",
    "outputId": "335d1e55-55a3-4e61-8401-a414580d9d62"
   },
   "outputs": [
    {
     "data": {
      "text/plain": [
       "<matplotlib.axes._subplots.AxesSubplot at 0x11d8398d0>"
      ]
     },
     "execution_count": 68,
     "metadata": {},
     "output_type": "execute_result"
    },
    {
     "data": {
      "image/png": "[encoded data removed]",
      "text/plain": [
       "<Figure size 432x288 with 1 Axes>"
      ]
     },
     "metadata": {},
     "output_type": "display_data"
    }
   ],
   "source": [
    "sns.boxplot(x=df['basisChange'])"
   ]
  },
  {
   "cell_type": "code",
   "execution_count": 69,
   "metadata": {
    "colab": {
     "base_uri": "https://localhost:8080/",
     "height": 309
    },
    "colab_type": "code",
    "id": "Xz3MwIjbaBUr",
    "outputId": "335d1e55-55a3-4e61-8401-a414580d9d62"
   },
   "outputs": [
    {
     "data": {
      "text/plain": [
       "<matplotlib.axes._subplots.AxesSubplot at 0x11d5f6950>"
      ]
     },
     "execution_count": 69,
     "metadata": {},
     "output_type": "execute_result"
    },
    {
     "data": {
      "image/png": "[encoded data removed]",
      "text/plain": [
       "<Figure size 432x288 with 1 Axes>"
      ]
     },
     "metadata": {},
     "output_type": "display_data"
    }
   ],
   "source": [
    "sns.boxplot(x=df['Next Day Change'])"
   ]
  },
  {
   "cell_type": "code",
   "execution_count": 70,
   "metadata": {
    "colab": {
     "base_uri": "https://localhost:8080/",
     "height": 139
    },
    "colab_type": "code",
    "id": "cFG9hck7aHUx",
    "outputId": "7c09ff98-3725-4d56-9b97-ef6b43d0e17b"
   },
   "outputs": [
    {
     "name": "stdout",
     "output_type": "stream",
     "text": [
      "0.9\n"
     ]
    }
   ],
   "source": [
    "Q1 = df['NIFTY Price Change'].quantile(0.25)\n",
    "Q3 = df['NIFTY Price Change'].quantile(0.75)\n",
    "IQR = Q3 - Q1\n",
    "print(IQR)"
   ]
  },
  {
   "cell_type": "markdown",
   "metadata": {
    "colab_type": "text",
    "id": "Z87kHbgvaQbb"
   },
   "source": [
    "\n",
    "\n",
    "---\n",
    "\n"
   ]
  },
  {
   "cell_type": "markdown",
   "metadata": {
    "colab_type": "text",
    "id": "c37WtYYWJuAQ"
   },
   "source": [
    "### Heat Maps\n",
    "\n",
    "Heat Maps is a type of plot which is necessary when we need to find the dependent variables. One of the best way to find the relationship between the features can be done using heat maps. In the below heat map, we can see at one glance that **Vix change has the strong impact on our output variable(\"One Day Change\")**"
   ]
  },
  {
   "cell_type": "code",
   "execution_count": 74,
   "metadata": {
    "colab": {
     "base_uri": "https://localhost:8080/",
     "height": 544
    },
    "colab_type": "code",
    "id": "yhHfLVTj6nmy",
    "outputId": "50a65ae0-841a-42ec-87e6-1a99da1ea57b"
   },
   "outputs": [
    {
     "data": {
      "text/html": [
       "<div>\n",
       "<style scoped>\n",
       "    .dataframe tbody tr th:only-of-type {\n",
       "        vertical-align: middle;\n",
       "    }\n",
       "\n",
       "    .dataframe tbody tr th {\n",
       "        vertical-align: top;\n",
       "    }\n",
       "\n",
       "    .dataframe thead th {\n",
       "        text-align: right;\n",
       "    }\n",
       "</style>\n",
       "<table border=\"1\" class=\"dataframe\">\n",
       "  <thead>\n",
       "    <tr style=\"text-align: right;\">\n",
       "      <th></th>\n",
       "      <th>vixChange</th>\n",
       "      <th>AdvDecline</th>\n",
       "      <th>NIFTY Price Change</th>\n",
       "      <th>BANKNIFTY Price Change</th>\n",
       "      <th>NFOIChange</th>\n",
       "      <th>BNFOIChange</th>\n",
       "      <th>basisChange</th>\n",
       "      <th>Next Day Change</th>\n",
       "    </tr>\n",
       "  </thead>\n",
       "  <tbody>\n",
       "    <tr>\n",
       "      <th>vixChange</th>\n",
       "      <td>1.000000</td>\n",
       "      <td>0.069701</td>\n",
       "      <td>0.074280</td>\n",
       "      <td>0.050529</td>\n",
       "      <td>0.017034</td>\n",
       "      <td>0.028477</td>\n",
       "      <td>-0.002079</td>\n",
       "      <td>-0.559466</td>\n",
       "    </tr>\n",
       "    <tr>\n",
       "      <th>AdvDecline</th>\n",
       "      <td>0.069701</td>\n",
       "      <td>1.000000</td>\n",
       "      <td>0.901374</td>\n",
       "      <td>0.774151</td>\n",
       "      <td>0.100542</td>\n",
       "      <td>0.052254</td>\n",
       "      <td>0.055731</td>\n",
       "      <td>0.065724</td>\n",
       "    </tr>\n",
       "    <tr>\n",
       "      <th>NIFTY Price Change</th>\n",
       "      <td>0.074280</td>\n",
       "      <td>0.901374</td>\n",
       "      <td>1.000000</td>\n",
       "      <td>0.869002</td>\n",
       "      <td>0.107594</td>\n",
       "      <td>0.062272</td>\n",
       "      <td>0.075326</td>\n",
       "      <td>0.061490</td>\n",
       "    </tr>\n",
       "    <tr>\n",
       "      <th>BANKNIFTY Price Change</th>\n",
       "      <td>0.050529</td>\n",
       "      <td>0.774151</td>\n",
       "      <td>0.869002</td>\n",
       "      <td>1.000000</td>\n",
       "      <td>0.089311</td>\n",
       "      <td>0.049321</td>\n",
       "      <td>0.071499</td>\n",
       "      <td>0.068945</td>\n",
       "    </tr>\n",
       "    <tr>\n",
       "      <th>NFOIChange</th>\n",
       "      <td>0.017034</td>\n",
       "      <td>0.100542</td>\n",
       "      <td>0.107594</td>\n",
       "      <td>0.089311</td>\n",
       "      <td>1.000000</td>\n",
       "      <td>0.779631</td>\n",
       "      <td>0.387754</td>\n",
       "      <td>0.036691</td>\n",
       "    </tr>\n",
       "    <tr>\n",
       "      <th>BNFOIChange</th>\n",
       "      <td>0.028477</td>\n",
       "      <td>0.052254</td>\n",
       "      <td>0.062272</td>\n",
       "      <td>0.049321</td>\n",
       "      <td>0.779631</td>\n",
       "      <td>1.000000</td>\n",
       "      <td>0.404798</td>\n",
       "      <td>0.027513</td>\n",
       "    </tr>\n",
       "    <tr>\n",
       "      <th>basisChange</th>\n",
       "      <td>-0.002079</td>\n",
       "      <td>0.055731</td>\n",
       "      <td>0.075326</td>\n",
       "      <td>0.071499</td>\n",
       "      <td>0.387754</td>\n",
       "      <td>0.404798</td>\n",
       "      <td>1.000000</td>\n",
       "      <td>-0.012025</td>\n",
       "    </tr>\n",
       "    <tr>\n",
       "      <th>Next Day Change</th>\n",
       "      <td>-0.559466</td>\n",
       "      <td>0.065724</td>\n",
       "      <td>0.061490</td>\n",
       "      <td>0.068945</td>\n",
       "      <td>0.036691</td>\n",
       "      <td>0.027513</td>\n",
       "      <td>-0.012025</td>\n",
       "      <td>1.000000</td>\n",
       "    </tr>\n",
       "  </tbody>\n",
       "</table>\n",
       "</div>"
      ],
      "text/plain": [
       "                        vixChange  AdvDecline  NIFTY Price Change  \\\n",
       "vixChange                1.000000    0.069701            0.074280   \n",
       "AdvDecline               0.069701    1.000000            0.901374   \n",
       "NIFTY Price Change       0.074280    0.901374            1.000000   \n",
       "BANKNIFTY Price Change   0.050529    0.774151            0.869002   \n",
       "NFOIChange               0.017034    0.100542            0.107594   \n",
       "BNFOIChange              0.028477    0.052254            0.062272   \n",
       "basisChange             -0.002079    0.055731            0.075326   \n",
       "Next Day Change         -0.559466    0.065724            0.061490   \n",
       "\n",
       "                        BANKNIFTY Price Change  NFOIChange  BNFOIChange  \\\n",
       "vixChange                             0.050529    0.017034     0.028477   \n",
       "AdvDecline                            0.774151    0.100542     0.052254   \n",
       "NIFTY Price Change                    0.869002    0.107594     0.062272   \n",
       "BANKNIFTY Price Change                1.000000    0.089311     0.049321   \n",
       "NFOIChange                            0.089311    1.000000     0.779631   \n",
       "BNFOIChange                           0.049321    0.779631     1.000000   \n",
       "basisChange                           0.071499    0.387754     0.404798   \n",
       "Next Day Change                       0.068945    0.036691     0.027513   \n",
       "\n",
       "                        basisChange  Next Day Change  \n",
       "vixChange                 -0.002079        -0.559466  \n",
       "AdvDecline                 0.055731         0.065724  \n",
       "NIFTY Price Change         0.075326         0.061490  \n",
       "BANKNIFTY Price Change     0.071499         0.068945  \n",
       "NFOIChange                 0.387754         0.036691  \n",
       "BNFOIChange                0.404798         0.027513  \n",
       "basisChange                1.000000        -0.012025  \n",
       "Next Day Change           -0.012025         1.000000  "
      ]
     },
     "execution_count": 74,
     "metadata": {},
     "output_type": "execute_result"
    },
    {
     "data": {
      "image/png": "[encoded data removed]",
      "text/plain": [
       "<Figure size 720x360 with 2 Axes>"
      ]
     },
     "metadata": {},
     "output_type": "display_data"
    }
   ],
   "source": [
    "plt.figure(figsize=(10,5))\n",
    "c= df.corr()\n",
    "sns.heatmap(c,cmap=\"BrBG\",annot=True)\n",
    "c"
   ]
  },
  {
   "cell_type": "markdown",
   "metadata": {
    "colab_type": "text",
    "id": "1ROThOLQfRZw"
   },
   "source": [
    "### Scatterplot\n",
    "\n",
    "We generally use scatter plots to find the correlation between two variables. Here the scatter plots are plotted between VIX Change and Next Day Change and we can see the plot below. With the plot given below, we can easily draw a trend line. These features provide a good scattering of points."
   ]
  },
  {
   "cell_type": "code",
   "execution_count": 89,
   "metadata": {
    "colab": {
     "base_uri": "https://localhost:8080/",
     "height": 401
    },
    "colab_type": "code",
    "id": "2aOfHNFefSrX",
    "outputId": "4b5286f0-5419-48bc-d2de-476aeb36f022"
   },
   "outputs": [
    {
     "data": {
      "image/png": "[encoded data removed]",
      "text/plain": [
       "<Figure size 720x432 with 1 Axes>"
      ]
     },
     "metadata": {},
     "output_type": "display_data"
    },
    {
     "name": "stdout",
     "output_type": "stream",
     "text": [
      "Correlation -0.56\n"
     ]
    }
   ],
   "source": [
    "fig, ax = plt.subplots(figsize=(10,6))\n",
    "ax.scatter(df['vixChange'], df['Next Day Change'])\n",
    "ax.set_xlabel('vixChange')\n",
    "ax.set_ylabel('Next Day Change')\n",
    "z = np.polyfit(df['vixChange'], df['Next Day Change'], 1)\n",
    "p = np.poly1d(z)\n",
    "ax.plot(df['vixChange'],p(df['vixChange']),\"r--\")\n",
    "plt.show()\n",
    "print(\"Correlation\",round(df['vixChange'].corr(df['Next Day Change']),2))"
   ]
  },
  {
   "cell_type": "code",
   "execution_count": 90,
   "metadata": {},
   "outputs": [
    {
     "data": {
      "image/png": "[encoded data removed]",
      "text/plain": [
       "<Figure size 720x432 with 1 Axes>"
      ]
     },
     "metadata": {},
     "output_type": "display_data"
    },
    {
     "name": "stdout",
     "output_type": "stream",
     "text": [
      "Correlation 0.07\n"
     ]
    }
   ],
   "source": [
    "fig, ax = plt.subplots(figsize=(10,6))\n",
    "ax.scatter(df['AdvDecline'], df['Next Day Change'])\n",
    "ax.set_xlabel('AdvDecline')\n",
    "ax.set_ylabel('Next Day Change')\n",
    "plt.show()\n",
    "print(\"Correlation\",round(df['AdvDecline'].corr(df['Next Day Change']),2))"
   ]
  },
  {
   "cell_type": "code",
   "execution_count": 91,
   "metadata": {},
   "outputs": [
    {
     "data": {
      "image/png": "[encoded data removed]",
      "text/plain": [
       "<Figure size 720x432 with 1 Axes>"
      ]
     },
     "metadata": {},
     "output_type": "display_data"
    },
    {
     "name": "stdout",
     "output_type": "stream",
     "text": [
      "Correlation 0.06\n"
     ]
    }
   ],
   "source": [
    "fig, ax = plt.subplots(figsize=(10,6))\n",
    "ax.scatter(df['NIFTY Price Change'], df['Next Day Change'])\n",
    "ax.set_xlabel('NIFTY Price Change')\n",
    "ax.set_ylabel('Next Day Change')\n",
    "plt.show()\n",
    "print(\"Correlation\",round(df['NIFTY Price Change'].corr(df['Next Day Change']),2))"
   ]
  },
  {
   "cell_type": "code",
   "execution_count": 92,
   "metadata": {},
   "outputs": [
    {
     "data": {
      "image/png": "[encoded data removed]",
      "text/plain": [
       "<Figure size 720x432 with 1 Axes>"
      ]
     },
     "metadata": {},
     "output_type": "display_data"
    },
    {
     "name": "stdout",
     "output_type": "stream",
     "text": [
      "Correlation 0.07\n"
     ]
    }
   ],
   "source": [
    "fig, ax = plt.subplots(figsize=(10,6))\n",
    "ax.scatter(df['BANKNIFTY Price Change'], df['Next Day Change'])\n",
    "ax.set_xlabel('BANKNIFTY Price Change')\n",
    "ax.set_ylabel('Next Day Change')\n",
    "plt.show()\n",
    "print(\"Correlation\",round(df['BANKNIFTY Price Change'].corr(df['Next Day Change']),2))"
   ]
  },
  {
   "cell_type": "code",
   "execution_count": 93,
   "metadata": {},
   "outputs": [
    {
     "data": {
      "image/png": "[encoded data removed]",
      "text/plain": [
       "<Figure size 720x432 with 1 Axes>"
      ]
     },
     "metadata": {},
     "output_type": "display_data"
    },
    {
     "name": "stdout",
     "output_type": "stream",
     "text": [
      "Correlation 0.04\n"
     ]
    }
   ],
   "source": [
    "fig, ax = plt.subplots(figsize=(10,6))\n",
    "ax.scatter(df['NFOIChange'], df['Next Day Change'])\n",
    "ax.set_xlabel('NFOIChange')\n",
    "ax.set_ylabel('Next Day Change')\n",
    "plt.show()\n",
    "print(\"Correlation\",round(df['NFOIChange'].corr(df['Next Day Change']),2))"
   ]
  },
  {
   "cell_type": "code",
   "execution_count": 94,
   "metadata": {},
   "outputs": [
    {
     "data": {
      "image/png": "[encoded data removed]",
      "text/plain": [
       "<Figure size 720x432 with 1 Axes>"
      ]
     },
     "metadata": {},
     "output_type": "display_data"
    },
    {
     "name": "stdout",
     "output_type": "stream",
     "text": [
      "Correlation 0.03\n"
     ]
    }
   ],
   "source": [
    "fig, ax = plt.subplots(figsize=(10,6))\n",
    "ax.scatter(df['BNFOIChange'], df['Next Day Change'])\n",
    "ax.set_xlabel('BNFOIChange')\n",
    "ax.set_ylabel('Next Day Change')\n",
    "plt.show()\n",
    "print(\"Correlation\",round(df['BNFOIChange'].corr(df['Next Day Change']),2))"
   ]
  },
  {
   "cell_type": "code",
   "execution_count": 95,
   "metadata": {},
   "outputs": [
    {
     "data": {
      "image/png": "[encoded data removed]",
      "text/plain": [
       "<Figure size 720x432 with 1 Axes>"
      ]
     },
     "metadata": {},
     "output_type": "display_data"
    },
    {
     "name": "stdout",
     "output_type": "stream",
     "text": [
      "Correlation -0.01\n"
     ]
    }
   ],
   "source": [
    "fig, ax = plt.subplots(figsize=(10,6))\n",
    "ax.scatter(df['basisChange'], df['Next Day Change'])\n",
    "ax.set_xlabel('basisChange')\n",
    "ax.set_ylabel('Next Day Change')\n",
    "plt.show()\n",
    "print(\"Correlation\",round(df['basisChange'].corr(df['Next Day Change']),2))"
   ]
  },
  {
   "cell_type": "markdown",
   "metadata": {
    "colab_type": "text",
    "id": "hQXy8o_gKFS5"
   },
   "source": [
    "**As we can see, VIX Change is by far the most important variable in predicting next day close vis-a-vis current day close**\n",
    "This analysis can be repeated for changes to next day Open, High and Low also relative to current day close and for days further out(3 days in the future etc)\n",
    "\n"
   ]
  }
 ],
 "metadata": {
  "celltoolbar": "Edit Metadata",
  "colab": {
   "collapsed_sections": [],
   "name": "Nifty Exploratory data Analysis.ipynb",
   "provenance": []
  },
  "kernelspec": {
   "display_name": "Python 3",
   "language": "python",
   "name": "python3"
  },
  "language_info": {
   "codemirror_mode": {
    "name": "ipython",
    "version": 3
   },
   "file_extension": ".py",
   "mimetype": "text/x-python",
   "name": "python",
   "nbconvert_exporter": "python",
   "pygments_lexer": "ipython3",
   "version": "3.7.4"
  }
 },
 "nbformat": 4,
 "nbformat_minor": 1
}
